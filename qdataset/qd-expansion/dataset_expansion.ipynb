{
 "cells": [
  {
   "cell_type": "code",
   "execution_count": 2,
   "metadata": {},
   "outputs": [
    {
     "data": {
      "text/plain": [
       "('expanded_2-27_synds_100_sub_60_qce.csv', array([26]))"
      ]
     },
     "execution_count": 2,
     "metadata": {},
     "output_type": "execute_result"
    }
   ],
   "source": [
    "import pandas as pd\n",
    "import numpy as np\n",
    "from sklearn.utils import shuffle\n",
    "\n",
    "# Load the original dataset\n",
    "original_data_path = '2-27_synds_100_sub_60_qce.csv'\n",
    "data = pd.read_csv(original_data_path)\n",
    "\n",
    "# Group by 'subset' to handle each subset separately\n",
    "grouped = data.groupby('subset')\n",
    "\n",
    "# List to collect new generated data\n",
    "new_data = []\n",
    "\n",
    "# Generate new subsets\n",
    "num_new_subsets = 900  # number of new subsets to create\n",
    "existing_subsets = data['subset'].unique()\n",
    "num_existing_subsets = len(existing_subsets)\n",
    "\n",
    "for i in range(1, num_new_subsets + 1):\n",
    "    # Choose random subsets to mix\n",
    "    selected_subsets = np.random.choice(existing_subsets, size=2, replace=False)\n",
    "    mixed_subset = pd.concat([grouped.get_group(x).sample(frac=1, replace=False).reset_index(drop=True) for x in selected_subsets])\n",
    "    \n",
    "    # Shuffle the mixed subset\n",
    "    mixed_subset = shuffle(mixed_subset).reset_index(drop=True)\n",
    "    \n",
    "    # Assign new subset number\n",
    "    mixed_subset['subset'] = i + num_existing_subsets  # adjust based on your indexing needs\n",
    "    \n",
    "    # Append to the new data list\n",
    "    new_data.append(mixed_subset)\n",
    "\n",
    "# Concatenate all new data\n",
    "expanded_data = pd.concat(new_data, ignore_index=True)\n",
    "\n",
    "# Concatenate the original data with the new expanded data\n",
    "final_data = pd.concat([data, expanded_data], ignore_index=True)\n",
    "\n",
    "# Correcting subset IDs so they range from 1 to 1000\n",
    "final_data['subset'] = (final_data.index // 26) + 1\n",
    "\n",
    "# Save the new expanded dataset\n",
    "expanded_file_path = 'expanded_2-27_synds_100_sub_60_qce.csv'\n",
    "final_data.to_csv(expanded_file_path, index=False)\n",
    "\n",
    "# Check for correctness: ensure 1000 subsets, each with 26 items\n",
    "check_correctness = final_data['subset'].value_counts().unique()\n",
    "\n",
    "expanded_file_path, check_correctness\n"
   ]
  }
 ],
 "metadata": {
  "kernelspec": {
   "display_name": "ray",
   "language": "python",
   "name": "python3"
  },
  "language_info": {
   "codemirror_mode": {
    "name": "ipython",
    "version": 3
   },
   "file_extension": ".py",
   "mimetype": "text/x-python",
   "name": "python",
   "nbconvert_exporter": "python",
   "pygments_lexer": "ipython3",
   "version": "3.10.13"
  }
 },
 "nbformat": 4,
 "nbformat_minor": 2
}
